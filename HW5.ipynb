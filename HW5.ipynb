{
 "cells": [
  {
   "cell_type": "code",
   "execution_count": 3,
   "metadata": {},
   "outputs": [],
   "source": [
    "# Author: Rami Bazoqa\n",
    "# Date: 2020/2/7\n",
    "# CS301-006, Professor Watson\n",
    "# HW#5 Solution\n",
    "# Simple Stats Functions\n",
    "# Link to the git repo: https://github.com/Bazoqa/CS301_HW\n",
    "# Link to the git commit:\n",
    "# name of the branch: master"
   ]
  },
  {
   "cell_type": "markdown",
   "metadata": {},
   "source": [
    "### Problem 1"
   ]
  },
  {
   "cell_type": "code",
   "execution_count": 53,
   "metadata": {},
   "outputs": [
    {
     "data": {
      "text/html": [
       "<div>\n",
       "<style scoped>\n",
       "    .dataframe tbody tr th:only-of-type {\n",
       "        vertical-align: middle;\n",
       "    }\n",
       "\n",
       "    .dataframe tbody tr th {\n",
       "        vertical-align: top;\n",
       "    }\n",
       "\n",
       "    .dataframe thead th {\n",
       "        text-align: right;\n",
       "    }\n",
       "</style>\n",
       "<table border=\"1\" class=\"dataframe\">\n",
       "  <thead>\n",
       "    <tr style=\"text-align: right;\">\n",
       "      <th></th>\n",
       "      <th>Unnamed: 0</th>\n",
       "      <th>Name</th>\n",
       "      <th>Midterm</th>\n",
       "      <th>Final</th>\n",
       "      <th>Attendance</th>\n",
       "      <th>HW</th>\n",
       "      <th>Final Average</th>\n",
       "      <th>Final Letter</th>\n",
       "      <th>Numeric Bin</th>\n",
       "      <th>Majors</th>\n",
       "    </tr>\n",
       "  </thead>\n",
       "  <tbody>\n",
       "    <tr>\n",
       "      <td>0</td>\n",
       "      <td>0</td>\n",
       "      <td>Ariel</td>\n",
       "      <td>89</td>\n",
       "      <td>92</td>\n",
       "      <td>9</td>\n",
       "      <td>9</td>\n",
       "      <td>86.0</td>\n",
       "      <td>B+</td>\n",
       "      <td>80.0</td>\n",
       "      <td>BNFO</td>\n",
       "    </tr>\n",
       "    <tr>\n",
       "      <td>1</td>\n",
       "      <td>1</td>\n",
       "      <td>Brody</td>\n",
       "      <td>92</td>\n",
       "      <td>93</td>\n",
       "      <td>10</td>\n",
       "      <td>9</td>\n",
       "      <td>89.0</td>\n",
       "      <td>A</td>\n",
       "      <td>80.0</td>\n",
       "      <td>BNFO</td>\n",
       "    </tr>\n",
       "    <tr>\n",
       "      <td>2</td>\n",
       "      <td>2</td>\n",
       "      <td>Debra</td>\n",
       "      <td>76</td>\n",
       "      <td>88</td>\n",
       "      <td>8</td>\n",
       "      <td>6</td>\n",
       "      <td>74.0</td>\n",
       "      <td>C+</td>\n",
       "      <td>70.0</td>\n",
       "      <td>MATH</td>\n",
       "    </tr>\n",
       "    <tr>\n",
       "      <td>3</td>\n",
       "      <td>3</td>\n",
       "      <td>Rex</td>\n",
       "      <td>90</td>\n",
       "      <td>83</td>\n",
       "      <td>10</td>\n",
       "      <td>10</td>\n",
       "      <td>88.0</td>\n",
       "      <td>B+</td>\n",
       "      <td>80.0</td>\n",
       "      <td>MATH</td>\n",
       "    </tr>\n",
       "    <tr>\n",
       "      <td>4</td>\n",
       "      <td>4</td>\n",
       "      <td>Jerry</td>\n",
       "      <td>67</td>\n",
       "      <td>85</td>\n",
       "      <td>7</td>\n",
       "      <td>5</td>\n",
       "      <td>66.0</td>\n",
       "      <td>D</td>\n",
       "      <td>60.0</td>\n",
       "      <td>BNFO</td>\n",
       "    </tr>\n",
       "  </tbody>\n",
       "</table>\n",
       "</div>"
      ],
      "text/plain": [
       "   Unnamed: 0   Name  Midterm  Final  Attendance  HW  Final Average  \\\n",
       "0           0  Ariel       89     92           9   9           86.0   \n",
       "1           1  Brody       92     93          10   9           89.0   \n",
       "2           2  Debra       76     88           8   6           74.0   \n",
       "3           3    Rex       90     83          10  10           88.0   \n",
       "4           4  Jerry       67     85           7   5           66.0   \n",
       "\n",
       "  Final Letter  Numeric Bin Majors  \n",
       "0           B+         80.0   BNFO  \n",
       "1            A         80.0   BNFO  \n",
       "2           C+         70.0   MATH  \n",
       "3           B+         80.0   MATH  \n",
       "4            D         60.0   BNFO  "
      ]
     },
     "execution_count": 53,
     "metadata": {},
     "output_type": "execute_result"
    }
   ],
   "source": [
    "import pandas as pd\n",
    "pd.set_option('display.max_columns', 999)\n",
    "import numpy as np\n",
    "\n",
    "##Visualization Libraries\n",
    "import seaborn as sns\n",
    "import matplotlib as mpl\n",
    "import matplotlib.pyplot as plt\n",
    "%matplotlib inline\n",
    "\n",
    "data_dir = 'C:\\\\Users\\\\Rami\\\\Downloads\\\\'\n",
    "input_file = data_dir + 'student_class.csv'\n",
    "df = pd.read_csv(input_file)\n",
    "df.head()"
   ]
  },
  {
   "cell_type": "code",
   "execution_count": 60,
   "metadata": {},
   "outputs": [],
   "source": [
    "# Get Rid of Duplicate Index Column\n",
    "df = df.drop(columns=['Unnamed: 0'])"
   ]
  },
  {
   "cell_type": "code",
   "execution_count": 189,
   "metadata": {},
   "outputs": [
    {
     "name": "stdout",
     "output_type": "stream",
     "text": [
      "  Majors  Midterm  Final  Final Average\n",
      "0   BNFO     87.5   90.5          75.05\n",
      "1     CS     82.0   74.5          72.70\n",
      "2     IS     73.0   81.0          71.80\n",
      "3     IT     82.5   80.5          74.80\n",
      "4   MATH     84.5   80.5          74.30\n"
     ]
    },
    {
     "data": {
      "image/png": "[encoded data removed]",
      "text/plain": [
       "<Figure size 432x288 with 1 Axes>"
      ]
     },
     "metadata": {
      "needs_background": "light"
     },
     "output_type": "display_data"
    }
   ],
   "source": [
    "df_s = df[['Majors','Midterm','Final','Final Average']].copy()\n",
    "df_m = df_s.groupby(['Majors'], as_index=False).median()\n",
    "print(df_m)\n",
    "\n",
    "df_m.plot(x=\"Majors\", y=['Midterm','Final', \"Final Average\"], kind=\"bar\")\n",
    "plt.title('Median Midterm, Final, and Final Average Scores')\n",
    "plt.xlabel('Major')\n",
    "plt.ylabel('Median Score')\n",
    "plt.show()"
   ]
  },
  {
   "cell_type": "markdown",
   "metadata": {},
   "source": [
    "Items: Median Scores for various exams grouped by Major (Bars)\n",
    "\n",
    "Attributes: Categorical and Quantitative\n",
    "\n",
    "Marks: The Bars Themselves\n",
    "\n",
    "Channels: Position on the X and Y axises, Colors of the bars\n",
    "\n",
    "General Comments: The BNFO majors are doing the best as they have the highest average final score. CS/MATH/IT majors did well on their midterm, but have been struggling since due to lowering grades. IS and BNFO majors have been improving throughout the semester."
   ]
  },
  {
   "cell_type": "markdown",
   "metadata": {},
   "source": [
    "### Problem 2"
   ]
  },
  {
   "cell_type": "code",
   "execution_count": 209,
   "metadata": {},
   "outputs": [
    {
     "data": {
      "image/png": "[encoded data removed]",
      "text/plain": [
       "<Figure size 432x288 with 1 Axes>"
      ]
     },
     "metadata": {
      "needs_background": "light"
     },
     "output_type": "display_data"
    }
   ],
   "source": [
    "plt.title('Number of Students in Each Grade Bin')\n",
    "plt.xlabel('Grade')\n",
    "plt.ylabel('Frequency')\n",
    "hist = df['Final Average'].hist(bins='auto')"
   ]
  },
  {
   "cell_type": "markdown",
   "metadata": {},
   "source": [
    "Items: Amount of Grades within each bin\n",
    "\n",
    "Attributes: Quantitative\n",
    "\n",
    "Marks: Bars\n",
    "\n",
    "Channels: Position on the X and Y axises\n",
    "\n",
    "Critique: I would add vertical lines dividing the bins in order to more clearly divide them\n",
    "\n",
    "Distribtion: Skewed left"
   ]
  },
  {
   "cell_type": "markdown",
   "metadata": {},
   "source": [
    "### Problem 3"
   ]
  },
  {
   "cell_type": "code",
   "execution_count": 238,
   "metadata": {},
   "outputs": [
    {
     "data": {
      "text/plain": [
       "Text(0, 0.5, 'Final Average')"
      ]
     },
     "execution_count": 238,
     "metadata": {},
     "output_type": "execute_result"
    },
    {
     "data": {
      "image/png": "[encoded data removed]",
      "text/plain": [
       "<Figure size 432x288 with 1 Axes>"
      ]
     },
     "metadata": {
      "needs_background": "light"
     },
     "output_type": "display_data"
    }
   ],
   "source": [
    "p1 = df.plot(kind='scatter', x='Midterm', y='Final Average', c='red')\n",
    "p2 = df.plot(kind='scatter', x='Final', y='Final Average', c='blue', ax = p1)\n",
    "plt.title('Exams vs Final Averages')\n",
    "plt.xlabel('Exam Score')\n",
    "plt.ylabel('Final Average')"
   ]
  },
  {
   "cell_type": "markdown",
   "metadata": {},
   "source": [
    "Items: Exam Scores & Corresponding Final Class Grades\n",
    "\n",
    "Attributes: Quantitative & Categorical\n",
    "\n",
    "Marks: Dots on the plot\n",
    "\n",
    "Channels: Position on the X and Y axises, colors\n",
    "\n",
    "Generally speaking, exam scores are indicitive of the corresponding final average. There is a positive correlation between Final Averages and Exam Scores."
   ]
  },
  {
   "cell_type": "code",
   "execution_count": null,
   "metadata": {},
   "outputs": [],
   "source": []
  }
 ],
 "metadata": {
  "kernelspec": {
   "display_name": "Python 3",
   "language": "python",
   "name": "python3"
  },
  "language_info": {
   "codemirror_mode": {
    "name": "ipython",
    "version": 3
   },
   "file_extension": ".py",
   "mimetype": "text/x-python",
   "name": "python",
   "nbconvert_exporter": "python",
   "pygments_lexer": "ipython3",
   "version": "3.7.4"
  }
 },
 "nbformat": 4,
 "nbformat_minor": 2
}
