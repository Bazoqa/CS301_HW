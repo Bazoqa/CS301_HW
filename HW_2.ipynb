{
 "cells": [
  {
   "cell_type": "code",
   "execution_count": 1,
   "metadata": {},
   "outputs": [],
   "source": [
    "# Author: Rami Bazoqa\n",
    "# Date: 2020/2/7\n",
    "# CS301-006, Professor Watson\n",
    "# HW#2 Solution\n",
    "# Simple Stats Functions\n",
    "# Link to the git repo:\n",
    "# Link to the git commit:\n",
    "# name of the branch: master"
   ]
  },
  {
   "cell_type": "markdown",
   "metadata": {},
   "source": [
    "## Problem 2"
   ]
  },
  {
   "cell_type": "code",
   "execution_count": 89,
   "metadata": {},
   "outputs": [
    {
     "name": "stdout",
     "output_type": "stream",
     "text": [
      "The following are outliers:  [0, 0, 14]\n",
      "{'min': 35.0, 'q1': 63.0, 'q2': 78.0, 'q3': 87.0, 'max': 100.0}\n",
      "The following are outliers:  [89]\n",
      "{'min': 5.0, 'q1': 15.0, 'q2': 22.5, 'q3': 41.25, 'max': 65.0}\n"
     ]
    }
   ],
   "source": [
    "import numpy as np\n",
    "def q_summary_V1(inputList):\n",
    "    # Calculate Data\n",
    "    Q1 = np.quantile(inputList, .25)\n",
    "    Q2 = np.quantile(inputList, .50)\n",
    "    Q3 = np.quantile(inputList, .75)\n",
    "    IQR = Q3 - Q1\n",
    "    outliers = []\n",
    "    \n",
    "    #Find Outliers\n",
    "    for num in inputList:\n",
    "        if num < (Q1 - (1.5*IQR)) or num > (Q3 + (1.5*IQR)):\n",
    "            outliers.append(num)\n",
    "    \n",
    "    # Remove Outliers From Contention of min and max\n",
    "    list2 = inputList[:]\n",
    "    for num in inputList:\n",
    "        if num in outliers:\n",
    "            list2.remove(num)\n",
    "    \n",
    "    #Print Outliers if needed\n",
    "    if len(outliers) > 0:\n",
    "        print(\"The following are outliers: \", end =\" \")\n",
    "        print(outliers)\n",
    "    \n",
    "    #Save Dictionary and return\n",
    "    output = {}\n",
    "    output[\"min\"] = np.quantile(list2, .00)\n",
    "    output[\"q1\"] = Q1\n",
    "    output[\"q2\"] = Q2\n",
    "    output[\"q3\"] = Q3\n",
    "    output[\"max\"] = np.quantile(list2, 1.00)\n",
    "    return output\n",
    "\n",
    "foo = sorted([0, 0, 14, 35, 91, 100, 81, 77,75,66,78,80,81,63,87,90,89])\n",
    "print(q_summary_V1(foo))\n",
    "foo2 = sorted([5,10,10,15,15,15,15,20,20,20,25,30,30,40,40,45,60,60,65,89])\n",
    "print(q_summary_V1(foo2))"
   ]
  },
  {
   "cell_type": "markdown",
   "metadata": {},
   "source": [
    "## Problem 3"
   ]
  },
  {
   "cell_type": "code",
   "execution_count": 108,
   "metadata": {},
   "outputs": [
    {
     "name": "stdout",
     "output_type": "stream",
     "text": [
      "{'min': 0, 'q1': 49.0, 'q2': 78, 'q3': 88.0, 'max': 100}\n",
      "The following are outliers:  [89]\n",
      "{'min': 5, 'q1': 15.0, 'q2': 22.5, 'q3': 43.75, 'max': 65}\n"
     ]
    }
   ],
   "source": [
    "import math\n",
    "def q_summary_V2(inputList):\n",
    "    # Calculate Data\n",
    "    n = len(inputList)\n",
    "    Q1_i = ((n+1)/4) - 1\n",
    "    if Q1_i % 1 == 0:\n",
    "        Q1 = inputList[int(Q1_i)]\n",
    "    else:\n",
    "        Q1 = ((((Q1_i)-(math.floor(Q1_i)))*(inputList[math.floor(Q1_i)]-inputList[math.ceil(Q1_i)]))/(math.floor(Q1_i)-math.ceil(Q1_i)))+inputList[math.floor(Q1_i)]\n",
    "    Q2_i = ((2*(n+1))/4) - 1\n",
    "    if Q2_i % 1 == 0:\n",
    "        Q2 = inputList[int(Q2_i)]\n",
    "    else:\n",
    "        Q2 = ((((Q2_i)-(math.floor(Q2_i)))*(inputList[math.floor(Q2_i)]-inputList[math.ceil(Q2_i)]))/(math.floor(Q2_i)-math.ceil(Q2_i)))+inputList[math.floor(Q2_i)]\n",
    "    Q3_i = ((3*(n+1))/4) - 1\n",
    "    if Q3_i % 1 == 0:\n",
    "        Q3 = inputList[int(Q3_i)]\n",
    "    else:\n",
    "        Q3 = ((inputList[math.ceil(Q3_i)] - inputList[math.floor(Q3_i)]) * (Q3_i - math.floor(Q3_i))) + inputList[math.floor(Q3_i)]\n",
    "    IQR = Q3 - Q1\n",
    "\n",
    "    #Find Outliers\n",
    "    outliers = []\n",
    "    for num in inputList:\n",
    "        if num < (Q1 - (1.5*IQR)) or num > (Q3 + (1.5*IQR)):\n",
    "            outliers.append(num)\n",
    "    \n",
    "    # Remove Outliers From Contention of min and max\n",
    "    list2 = inputList[:]\n",
    "    for num in inputList:\n",
    "        if num in outliers:\n",
    "            list2.remove(num)\n",
    "    \n",
    "    #Print Outliers if needed\n",
    "    if len(outliers) > 0:\n",
    "        print(\"The following are outliers: \", end =\" \")\n",
    "        print(outliers)\n",
    "    \n",
    "    #Save Dictionary and return\n",
    "    output = {}\n",
    "    output[\"min\"] = min(list2)\n",
    "    output[\"q1\"] = Q1\n",
    "    output[\"q2\"] = Q2\n",
    "    output[\"q3\"] = Q3\n",
    "    output[\"max\"] = max(list2)\n",
    "    return output\n",
    "\n",
    "grades = sorted([0, 0, 14, 35, 91, 100, 81, 77,75,66,78,80,81,63,87,90,89])\n",
    "print(q_summary_V2(grades))\n",
    "times = sorted([5, 10, 10, 15, 15, 15, 15, 20, 20, 20, 25, 30, 30, 40, 40, 45, 60, 60, 65, 89])\n",
    "print(q_summary_V2(times))"
   ]
  }
 ],
 "metadata": {
  "kernelspec": {
   "display_name": "Python 3",
   "language": "python",
   "name": "python3"
  },
  "language_info": {
   "codemirror_mode": {
    "name": "ipython",
    "version": 3
   },
   "file_extension": ".py",
   "mimetype": "text/x-python",
   "name": "python",
   "nbconvert_exporter": "python",
   "pygments_lexer": "ipython3",
   "version": "3.7.4"
  }
 },
 "nbformat": 4,
 "nbformat_minor": 2
}
